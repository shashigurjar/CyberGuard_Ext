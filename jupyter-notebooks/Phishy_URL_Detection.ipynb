{
  "cells": [
    {
      "cell_type": "markdown",
      "metadata": {},
      "source": [
        "DATA PREPARATION"
      ]
    },
    {
      "cell_type": "code",
      "execution_count": null,
      "metadata": {
        "colab": {
          "base_uri": "https://localhost:8080/"
        },
        "id": "D4GfnUF1sO_A",
        "outputId": "bd667032-d991-498e-e210-e7a6abd4e6a3"
      },
      "outputs": [
        {
          "name": "stdout",
          "output_type": "stream",
          "text": [
            "Mounted at /content/drive\n"
          ]
        }
      ],
      "source": [
        "from google.colab import drive\n",
        "drive.mount('/content/drive')"
      ]
    },
    {
      "cell_type": "code",
      "execution_count": null,
      "metadata": {
        "id": "iNuL9ErKwfNw"
      },
      "outputs": [],
      "source": [
        "\n",
        "import pandas as pd\n",
        "import numpy as np\n",
        "import re\n",
        "import seaborn as sns\n",
        "import matplotlib.pyplot as plt\n",
        "from urllib.parse import urlparse\n",
        "from sklearn.ensemble import RandomForestClassifier\n",
        "from xgboost import XGBClassifier\n",
        "from sklearn.model_selection import train_test_split, GridSearchCV\n",
        "from sklearn.metrics import classification_report, confusion_matrix\n",
        "from sklearn.preprocessing import StandardScaler\n",
        "from sklearn.decomposition import PCA\n",
        "from sklearn.pipeline import Pipeline\n",
        "import joblib"
      ]
    },
    {
      "cell_type": "code",
      "execution_count": null,
      "metadata": {
        "id": "Fv13SOwa2rFD"
      },
      "outputs": [],
      "source": [
        "df = pd.read_csv('/content/drive/MyDrive/PhishingDetection/phishing_site_urls.csv')"
      ]
    },
    {
      "cell_type": "code",
      "execution_count": null,
      "metadata": {
        "colab": {
          "base_uri": "https://localhost:8080/"
        },
        "id": "5xASv7zXrIBN",
        "outputId": "655be134-ebd0-4c82-95c0-e4aa725ee8a2"
      },
      "outputs": [
        {
          "name": "stdout",
          "output_type": "stream",
          "text": [
            "Collecting python-whois\n",
            "  Downloading python_whois-0.9.5-py3-none-any.whl.metadata (2.6 kB)\n",
            "Requirement already satisfied: python-dateutil in /usr/local/lib/python3.11/dist-packages (from python-whois) (2.9.0.post0)\n",
            "Requirement already satisfied: six>=1.5 in /usr/local/lib/python3.11/dist-packages (from python-dateutil->python-whois) (1.17.0)\n",
            "Downloading python_whois-0.9.5-py3-none-any.whl (104 kB)\n",
            "\u001b[?25l   \u001b[90m━━━━━━━━━━━━━━━━━━━━━━━━━━━━━━━━━━━━━━━━\u001b[0m \u001b[32m0.0/104.2 kB\u001b[0m \u001b[31m?\u001b[0m eta \u001b[36m-:--:--\u001b[0m\r\u001b[2K   \u001b[90m━━━━━━━━━━━━━━━━━━━━━━━━━━━━━━━━━━━━━━━━\u001b[0m \u001b[32m104.2/104.2 kB\u001b[0m \u001b[31m4.1 MB/s\u001b[0m eta \u001b[36m0:00:00\u001b[0m\n",
            "\u001b[?25hInstalling collected packages: python-whois\n",
            "Successfully installed python-whois-0.9.5\n"
          ]
        }
      ],
      "source": [
        "pip install python-whois\n"
      ]
    },
    {
      "cell_type": "code",
      "execution_count": null,
      "metadata": {
        "colab": {
          "base_uri": "https://localhost:8080/"
        },
        "id": "vntaadFYtj4V",
        "outputId": "e5202f37-a5ac-4d71-e143-184532f42700"
      },
      "outputs": [
        {
          "name": "stdout",
          "output_type": "stream",
          "text": [
            "Collecting tldextract\n",
            "  Downloading tldextract-5.3.0-py3-none-any.whl.metadata (11 kB)\n",
            "Requirement already satisfied: idna in /usr/local/lib/python3.11/dist-packages (3.10)\n",
            "Requirement already satisfied: cryptography in /usr/local/lib/python3.11/dist-packages (43.0.3)\n",
            "Collecting whois\n",
            "  Downloading whois-1.20240129.2-py3-none-any.whl.metadata (1.3 kB)\n",
            "Requirement already satisfied: python-whois in /usr/local/lib/python3.11/dist-packages (0.9.5)\n",
            "Requirement already satisfied: numpy in /usr/local/lib/python3.11/dist-packages (2.0.2)\n",
            "Requirement already satisfied: requests>=2.1.0 in /usr/local/lib/python3.11/dist-packages (from tldextract) (2.32.3)\n",
            "Collecting requests-file>=1.4 (from tldextract)\n",
            "  Downloading requests_file-2.1.0-py2.py3-none-any.whl.metadata (1.7 kB)\n",
            "Requirement already satisfied: filelock>=3.0.8 in /usr/local/lib/python3.11/dist-packages (from tldextract) (3.18.0)\n",
            "Requirement already satisfied: cffi>=1.12 in /usr/local/lib/python3.11/dist-packages (from cryptography) (1.17.1)\n",
            "Requirement already satisfied: python-dateutil in /usr/local/lib/python3.11/dist-packages (from python-whois) (2.9.0.post0)\n",
            "Requirement already satisfied: pycparser in /usr/local/lib/python3.11/dist-packages (from cffi>=1.12->cryptography) (2.22)\n",
            "Requirement already satisfied: charset-normalizer<4,>=2 in /usr/local/lib/python3.11/dist-packages (from requests>=2.1.0->tldextract) (3.4.2)\n",
            "Requirement already satisfied: urllib3<3,>=1.21.1 in /usr/local/lib/python3.11/dist-packages (from requests>=2.1.0->tldextract) (2.4.0)\n",
            "Requirement already satisfied: certifi>=2017.4.17 in /usr/local/lib/python3.11/dist-packages (from requests>=2.1.0->tldextract) (2025.4.26)\n",
            "Requirement already satisfied: six>=1.5 in /usr/local/lib/python3.11/dist-packages (from python-dateutil->python-whois) (1.17.0)\n",
            "Downloading tldextract-5.3.0-py3-none-any.whl (107 kB)\n",
            "\u001b[2K   \u001b[90m━━━━━━━━━━━━━━━━━━━━━━━━━━━━━━━━━━━━━━━━\u001b[0m \u001b[32m107.4/107.4 kB\u001b[0m \u001b[31m4.5 MB/s\u001b[0m eta \u001b[36m0:00:00\u001b[0m\n",
            "\u001b[?25hDownloading whois-1.20240129.2-py3-none-any.whl (61 kB)\n",
            "\u001b[2K   \u001b[90m━━━━━━━━━━━━━━━━━━━━━━━━━━━━━━━━━━━━━━━━\u001b[0m \u001b[32m61.8/61.8 kB\u001b[0m \u001b[31m3.4 MB/s\u001b[0m eta \u001b[36m0:00:00\u001b[0m\n",
            "\u001b[?25hDownloading requests_file-2.1.0-py2.py3-none-any.whl (4.2 kB)\n",
            "Installing collected packages: whois, requests-file, tldextract\n",
            "Successfully installed requests-file-2.1.0 tldextract-5.3.0 whois-1.20240129.2\n"
          ]
        }
      ],
      "source": [
        "!pip install tldextract idna cryptography whois python-whois numpy\n"
      ]
    },
    {
      "cell_type": "markdown",
      "metadata": {},
      "source": [
        "DATA PREPROCESSING"
      ]
    },
    {
      "cell_type": "code",
      "execution_count": null,
      "metadata": {
        "id": "oUfngvNT31SM"
      },
      "outputs": [],
      "source": [
        "import re\n",
        "import numpy as np\n",
        "from urllib.parse import urlparse, parse_qs\n",
        "import ssl\n",
        "import socket\n",
        "from datetime import datetime\n",
        "import whois\n",
        "from cryptography import x509\n",
        "from cryptography.hazmat.backends import default_backend\n",
        "import tldextract\n",
        "import idna\n",
        "\n",
        "from datetime import datetime, timezone\n",
        "\n",
        "def check_ssl_cert(url):\n",
        "    try:\n",
        "        parsed_url = urlparse(url)\n",
        "        host = parsed_url.hostname\n",
        "        port = 443\n",
        "        context = ssl.create_default_context()\n",
        "\n",
        "        with socket.create_connection((host, port), timeout=5) as sock:\n",
        "            with context.wrap_socket(sock, server_hostname=host) as ssock:\n",
        "                cert_der = ssock.getpeercert(binary_form=True)\n",
        "                cert = x509.load_der_x509_certificate(cert_der, default_backend())\n",
        "\n",
        "                ssl_valid = 1\n",
        "                ssl_self_signed = 1 if cert.issuer == cert.subject else 0\n",
        "\n",
        "                now = datetime.now(timezone.utc)\n",
        "                validity = cert.not_valid_after_utc - datetime.now(timezone.utc)\n",
        "                ssl_days_left = validity.days if validity.days > 0 else 0\n",
        "\n",
        "                return ssl_valid, ssl_self_signed, ssl_days_left\n",
        "    except Exception as e:\n",
        "        return 0, 0, 0\n",
        "\n",
        "def get_whois_features(domain):\n",
        "    features = {\n",
        "        'domain_age_days': -1,\n",
        "        'domain_expiry_days': -1,\n",
        "        'domain_registered': 0,\n",
        "        'domain_country': '',\n",
        "        'has_whois_info': 0,\n",
        "        'registrar': '',\n",
        "        'name_servers_count': 0\n",
        "    }\n",
        "\n",
        "    try:\n",
        "        info = whois.whois(domain)\n",
        "        features['has_whois_info'] = 1\n",
        "\n",
        "        # Handle dates\n",
        "        creation_date = info.creation_date\n",
        "        expiration_date = info.expiration_date\n",
        "\n",
        "        if isinstance(creation_date, list):\n",
        "            creation_date = creation_date[0]\n",
        "        if isinstance(expiration_date, list):\n",
        "            expiration_date = expiration_date[0]\n",
        "\n",
        "        if creation_date and isinstance(creation_date, datetime):\n",
        "            features['domain_age_days'] = (datetime.utcnow() - creation_date).days\n",
        "        if expiration_date and isinstance(expiration_date, datetime):\n",
        "            features['domain_expiry_days'] = (expiration_date - datetime.utcnow()).days\n",
        "\n",
        "        # Additional WHOIS features\n",
        "        features['domain_registered'] = 1 if creation_date else 0\n",
        "        features['registrar'] = info.registrar if info.registrar else ''\n",
        "        features['name_servers_count'] = len(info.name_servers) if info.name_servers else 0\n",
        "        features['domain_country'] = info.country if info.country else ''\n",
        "\n",
        "    except Exception:\n",
        "        pass\n",
        "\n",
        "    return features\n",
        "\n",
        "def get_tld_features(domain):\n",
        "    extracted = tldextract.extract(domain)\n",
        "    return {\n",
        "        'subdomain_count': len(extracted.subdomain.split('.')),\n",
        "        'tld': extracted.suffix,\n",
        "        'domain_part_count': len(extracted.subdomain.split('.')) + 2  # subdomain + domain + suffix\n",
        "    }\n",
        "\n",
        "def is_shortener(url):\n",
        "    shorteners = {'bit.ly', 'goo.gl', 'tinyurl.com', 'ow.ly', 't.co', 'is.gd'}\n",
        "    return 1 if any(s in url for s in shorteners) else 0\n",
        "\n",
        "def entropy(s):\n",
        "    p, lns = np.unique(list(s), return_counts=True)\n",
        "    return -np.sum((lns/lns.sum()) * np.log2(lns/lns.sum()))\n",
        "\n",
        "def extract_features(URL):\n",
        "    features = {}\n",
        "\n",
        "    # Basic URL features\n",
        "    features['URL_length'] = len(URL)\n",
        "    features['num_dots'] = URL.count('.')\n",
        "    features['num_hyphens'] = URL.count('-')\n",
        "    features['num_slashes'] = URL.count('/')\n",
        "    features['num_question_marks'] = URL.count('?')\n",
        "    features['num_equals'] = URL.count('=')\n",
        "    features['num_at'] = URL.count('@')\n",
        "    features['has_ip'] = 1 if re.match(r\"^(https?:\\/\\/)?(\\d{1,3}\\.){3}\\d{1,3}\", URL) else 0\n",
        "\n",
        "    # Parsed components\n",
        "    parsed = urlparse(URL)\n",
        "    domain = parsed.netloc\n",
        "    path = parsed.path\n",
        "    query = parsed.query\n",
        "\n",
        "    # Domain analysis\n",
        "    features['domain_length'] = len(domain)\n",
        "    tld_features = get_tld_features(domain)\n",
        "    features.update(tld_features)\n",
        "    features['is_idn'] = 1 if 'xn--' in domain else 0  # Internationalized domain name\n",
        "\n",
        "    # Path analysis\n",
        "    features['path_length'] = len(path)\n",
        "    features['path_depth'] = path.count('/')\n",
        "    features['file_extension'] = 1 if '.' in path.split('/')[-1] else 0\n",
        "\n",
        "    # Query parameters analysis\n",
        "    params = parse_qs(query)\n",
        "    features['num_parameters'] = len(params)\n",
        "    sensitive_params = {'password', 'login', 'user', 'creditcard'}\n",
        "    features['sensitive_params'] = sum(1 for p in params if p.lower() in sensitive_params)\n",
        "\n",
        "    # Security features\n",
        "    features['uses_https'] = 1 if parsed.scheme == 'https' else 0\n",
        "    ssl_valid, ssl_self_signed, ssl_days_left = check_ssl_cert(URL)\n",
        "    features.update({\n",
        "        'ssl_cert_valid': ssl_valid,\n",
        "        'ssl_self_signed': ssl_self_signed,\n",
        "        'ssl_days_left': ssl_days_left\n",
        "    })\n",
        "\n",
        "    # Content features\n",
        "    features['entropy'] = entropy(URL)\n",
        "    features['is_shortened'] = is_shortener(URL)\n",
        "    suspicious_keywords = ['login', 'verify', 'secure', 'account', 'update',\n",
        "                         'bank', 'paypal', 'signin', 'confirm', 'password']\n",
        "    features['suspicious_keywords'] = sum(1 for word in suspicious_keywords if word in URL.lower())\n",
        "\n",
        "    # WHOIS features\n",
        "    whois_data = get_whois_features(domain)\n",
        "    features.update(whois_data)\n",
        "\n",
        "    # Additional features\n",
        "    features['non_standard_port'] = 1 if parsed.port not in [None, 80, 443] else 0\n",
        "    features['hex_chars'] = len(re.findall(r'%[0-9a-fA-F]{2}', URL))\n",
        "    features['redirects'] = len(re.findall('//', URL)) - 1\n",
        "\n",
        "    # IP and network features\n",
        "    try:\n",
        "        ip = socket.gethostbyname(domain)\n",
        "        features['ip_private'] = 1 if ip.startswith(('10.', '172.', '192.168.')) else 0\n",
        "    except:\n",
        "        features['ip_private'] = 0\n",
        "\n",
        "    return features"
      ]
    },
    {
      "cell_type": "code",
      "execution_count": null,
      "metadata": {
        "colab": {
          "base_uri": "https://localhost:8080/"
        },
        "id": "bsLpGf91rO03",
        "outputId": "fc298d58-fd9b-41d4-ff59-0b2faa29da9b"
      },
      "outputs": [
        {
          "name": "stdout",
          "output_type": "stream",
          "text": [
            "URL_length: 58\n",
            "num_dots: 1\n",
            "num_hyphens: 4\n",
            "num_slashes: 4\n",
            "num_question_marks: 0\n",
            "num_equals: 0\n",
            "num_at: 0\n",
            "has_ip: 0\n",
            "domain_length: 11\n",
            "subdomain_count: 1\n",
            "tld: com\n",
            "domain_part_count: 3\n",
            "is_idn: 0\n",
            "path_length: 39\n",
            "path_depth: 2\n",
            "file_extension: 0\n",
            "num_parameters: 0\n",
            "sensitive_params: 0\n",
            "uses_https: 1\n",
            "ssl_cert_valid: 1\n",
            "ssl_self_signed: 0\n",
            "ssl_days_left: 83\n",
            "entropy: 4.474552875170202\n",
            "is_shortened: 1\n",
            "suspicious_keywords: 0\n",
            "domain_age_days: -1\n",
            "domain_expiry_days: -1\n",
            "domain_registered: 0\n",
            "domain_country: \n",
            "has_whois_info: 0\n",
            "registrar: \n",
            "name_servers_count: 0\n",
            "non_standard_port: 0\n",
            "hex_chars: 0\n",
            "redirects: 0\n",
            "ip_private: 1\n"
          ]
        }
      ],
      "source": [
        "url = \"https://chatgpt.com/c/6831d57a-b888-800e-954f-bbb35764fb63\"\n",
        "features = extract_features(url)\n",
        "for key, value in features.items():\n",
        "    print(f\"{key}: {value}\")\n"
      ]
    },
    {
      "cell_type": "code",
      "execution_count": null,
      "metadata": {
        "colab": {
          "base_uri": "https://localhost:8080/"
        },
        "id": "RM_50yWp4lNo",
        "outputId": "2ed55fd0-5345-4497-e246-ff346e656463"
      },
      "outputs": [
        {
          "name": "stdout",
          "output_type": "stream",
          "text": [
            "                                                 URL Label\n",
            "0  nobell.it/70ffb52d079109dca5664cce6f317373782/...   bad\n",
            "1  www.dghjdgf.com/paypal.co.uk/cycgi-bin/webscrc...   bad\n",
            "2  serviciosbys.com/paypal.cgi.bin.get-into.herf....   bad\n",
            "3  mail.printakid.com/www.online.americanexpress....   bad\n",
            "4  thewhiskeydregs.com/wp-content/themes/widescre...   bad\n",
            "Index(['URL', 'Label'], dtype='object')\n"
          ]
        }
      ],
      "source": [
        "print(df.head())\n",
        "print(df.columns)\n"
      ]
    },
    {
      "cell_type": "code",
      "execution_count": null,
      "metadata": {
        "colab": {
          "base_uri": "https://localhost:8080/"
        },
        "id": "JbizTTpr4Dqi",
        "outputId": "c3f8ba96-784f-4be0-ad94-fb602bf66ee9"
      },
      "outputs": [
        {
          "name": "stdout",
          "output_type": "stream",
          "text": [
            "Final feature matrix shape: (549346, 56)\n",
            "Label distribution:\n",
            "Label\n",
            "good    392924\n",
            "bad     156422\n",
            "Name: count, dtype: int64\n"
          ]
        }
      ],
      "source": [
        "\n",
        "# Feature Extraction with Validation\n",
        "def safe_extract_features(url):\n",
        "    try:\n",
        "        return extract_features(url)\n",
        "    except Exception as e:\n",
        "        print(f\"Error processing {url}: {str(e)}\")\n",
        "        return None\n",
        "\n",
        "\n",
        "feature_data = df['URL'].apply(safe_extract_features)\n",
        "\n",
        "# Convert to DataFrame with filtering\n",
        "X = pd.DataFrame([fd for fd in feature_data if fd is not None])\n",
        "\n",
        "# Handle missing values properly\n",
        "X = X.fillna({\n",
        "    'ssl_days_left': -1,\n",
        "    'domain_age_days': -1,\n",
        "    'domain_expiry_days': -1,\n",
        "    'domain_country': 'unknown',\n",
        "    'registrar': 'unknown'\n",
        "}).fillna(0)\n",
        "\n",
        "# Convert categorical features using one-hot encoding\n",
        "categorical_cols = ['domain_country', 'tld', 'registrar']\n",
        "X = pd.get_dummies(X, columns=categorical_cols, prefix=categorical_cols)\n",
        "\n",
        "# Ensure numeric types and final cleaning\n",
        "X = X.apply(pd.to_numeric, errors='coerce').fillna(0)\n",
        "\n",
        "# Align labels with cleaned features\n",
        "valid_indices = X.index\n",
        "y = df.iloc[valid_indices]['Label'].reset_index(drop=True)\n",
        "X = X.reset_index(drop=True)\n",
        "\n",
        "# Final Validation\n",
        "assert len(X) == len(y), \"Feature/Label length mismatch after cleaning!\"\n",
        "assert X.isna().sum().sum() == 0, \"Missing values remaining in features!\"\n",
        "assert (X.dtypes != 'object').all(), \"Non-numeric features remaining!\"\n",
        "\n",
        "print(f\"Final feature matrix shape: {X.shape}\")\n",
        "print(f\"Label distribution:\\n{y.value_counts()}\")"
      ]
    },
    {
      "cell_type": "code",
      "execution_count": null,
      "metadata": {
        "id": "4Hgu1GEV7L0k"
      },
      "outputs": [],
      "source": [
        "X_train, X_test, y_train, y_test = train_test_split(X, y, test_size=0.2, stratify=y, )"
      ]
    },
    {
      "cell_type": "code",
      "execution_count": null,
      "metadata": {
        "colab": {
          "base_uri": "https://localhost:8080/"
        },
        "id": "zKFD109tOXwc",
        "outputId": "115148db-5f3d-4a29-a2bb-0eb7af1bc2af"
      },
      "outputs": [
        {
          "data": {
            "text/plain": [
              "['feature_names.pkl']"
            ]
          },
          "execution_count": 12,
          "metadata": {},
          "output_type": "execute_result"
        }
      ],
      "source": [
        "\n",
        "feature_names = X_train.columns.to_list()\n",
        "\n",
        "import joblib\n",
        "joblib.dump(feature_names, \"feature_names.pkl\")\n",
        "\n"
      ]
    },
    {
      "cell_type": "code",
      "execution_count": null,
      "metadata": {
        "id": "mPLNk6Uj4I8t"
      },
      "outputs": [],
      "source": [
        "scaler = StandardScaler()\n",
        "X_train = scaler.fit_transform(X_train)\n",
        "X_test = scaler.transform(X_test)"
      ]
    },
    {
      "cell_type": "code",
      "execution_count": null,
      "metadata": {
        "id": "gPZnDCbW6fRg"
      },
      "outputs": [],
      "source": [
        "corr_matrix = pd.DataFrame(X_train, columns=X.columns).corr()"
      ]
    },
    {
      "cell_type": "code",
      "execution_count": null,
      "metadata": {
        "colab": {
          "base_uri": "https://localhost:8080/"
        },
        "id": "99hWc85p6pCm",
        "outputId": "ab137dd2-f324-49fb-916d-eaba2deb932d"
      },
      "outputs": [
        {
          "name": "stdout",
          "output_type": "stream",
          "text": [
            "                     URL_length  num_dots  num_hyphens  num_slashes  \\\n",
            "URL_length             1.000000  0.491514     0.419772     0.385312   \n",
            "num_dots               0.491514  1.000000    -0.024422     0.194533   \n",
            "num_hyphens            0.419772 -0.024422     1.000000     0.216003   \n",
            "num_slashes            0.385312  0.194533     0.216003     1.000000   \n",
            "num_question_marks     0.307063  0.247617    -0.038057     0.067328   \n",
            "num_equals             0.540902  0.324738     0.004774     0.056687   \n",
            "num_at                 0.078991  0.095675    -0.009861     0.044339   \n",
            "has_ip                -0.059783  0.114499    -0.054313    -0.077156   \n",
            "domain_length          0.030401  0.034987     0.001206     0.033252   \n",
            "subdomain_count        0.009057  0.017793     0.003649     0.008178   \n",
            "domain_part_count      0.009057  0.017793     0.003649     0.008178   \n",
            "is_idn                      NaN       NaN          NaN          NaN   \n",
            "path_length            0.623606  0.356457     0.571503     0.520192   \n",
            "path_depth             0.351629  0.110152     0.230127     0.940581   \n",
            "file_extension         0.182777  0.381467    -0.020938     0.048700   \n",
            "num_parameters         0.526580  0.286630     0.004948     0.024078   \n",
            "sensitive_params       0.035550  0.024005    -0.002279     0.009862   \n",
            "uses_https             0.011959  0.005933     0.000058     0.002447   \n",
            "ssl_cert_valid         0.018312  0.011556    -0.002145     0.022676   \n",
            "ssl_self_signed             NaN       NaN          NaN          NaN   \n",
            "ssl_days_left          0.010401  0.005516    -0.002240     0.013750   \n",
            "entropy                0.647978  0.289553     0.322565     0.377999   \n",
            "is_shortened           0.036579  0.050831     0.059956    -0.001412   \n",
            "suspicious_keywords    0.374964  0.470426     0.040222     0.254832   \n",
            "domain_age_days             NaN       NaN          NaN          NaN   \n",
            "domain_expiry_days          NaN       NaN          NaN          NaN   \n",
            "domain_registered           NaN       NaN          NaN          NaN   \n",
            "has_whois_info              NaN       NaN          NaN          NaN   \n",
            "name_servers_count          NaN       NaN          NaN          NaN   \n",
            "non_standard_port           NaN       NaN          NaN          NaN   \n",
            "hex_chars              0.486699  0.165648     0.060816     0.014368   \n",
            "redirects              0.084003  0.099541    -0.006074     0.163943   \n",
            "ip_private                  NaN       NaN          NaN          NaN   \n",
            "domain_country_             NaN       NaN          NaN          NaN   \n",
            "tld_                  -0.032142 -0.032209     0.000204    -0.038482   \n",
            "tld_com                0.028956  0.029152    -0.000348     0.027828   \n",
            "tld_com.ba             0.000417  0.000931    -0.000700     0.002418   \n",
            "tld_com.br             0.010575  0.019689    -0.000962     0.017137   \n",
            "tld_de                -0.000355 -0.000623    -0.000159     0.002944   \n",
            "tld_edu.co             0.002423  0.002919    -0.000080     0.003364   \n",
            "tld_es                 0.007216  0.003913     0.001161     0.000526   \n",
            "tld_eu                 0.001097  0.005901    -0.000700     0.004310   \n",
            "tld_ga                 0.000711  0.001317     0.000765     0.002082   \n",
            "tld_gov.vn             0.009821  0.001317    -0.000990     0.007432   \n",
            "tld_gq                 0.000566  0.001317    -0.000113     0.002750   \n",
            "tld_in                -0.000330  0.000931    -0.000700     0.002418   \n",
            "tld_inf.br             0.000519  0.004907    -0.000700     0.004310   \n",
            "tld_info              -0.000194 -0.000063    -0.000700     0.001472   \n",
            "tld_it                 0.003273  0.001925     0.001161     0.007147   \n",
            "tld_lu                 0.000121 -0.002114    -0.000159     0.006727   \n",
            "tld_net                0.012257  0.004347     0.003254     0.015714   \n",
            "tld_no                 0.001287 -0.000089    -0.000113     0.006095   \n",
            "tld_org               -0.000107  0.001317    -0.000990     0.003419   \n",
            "tld_ru                 0.008652  0.002187     0.000937     0.005826   \n",
            "tld_ws                 0.000689  0.000931    -0.000080     0.002418   \n",
            "registrar_                  NaN       NaN          NaN          NaN   \n",
            "\n",
            "                     num_question_marks  num_equals    num_at    has_ip  \\\n",
            "URL_length                     0.307063    0.540902  0.078991 -0.059783   \n",
            "num_dots                       0.247617    0.324738  0.095675  0.114499   \n",
            "num_hyphens                   -0.038057    0.004774 -0.009861 -0.054313   \n",
            "num_slashes                    0.067328    0.056687  0.044339 -0.077156   \n",
            "num_question_marks             1.000000    0.574906  0.089269 -0.029650   \n",
            "num_equals                     0.574906    1.000000  0.099660 -0.028557   \n",
            "num_at                         0.089269    0.099660  1.000000 -0.006420   \n",
            "has_ip                        -0.029650   -0.028557 -0.006420  1.000000   \n",
            "domain_length                  0.014703    0.024539  0.006172 -0.001042   \n",
            "subdomain_count               -0.001733    0.007751 -0.000285 -0.000613   \n",
            "domain_part_count             -0.001733    0.007751 -0.000285 -0.000613   \n",
            "is_idn                              NaN         NaN       NaN       NaN   \n",
            "path_length                   -0.071888   -0.005564  0.020458 -0.070434   \n",
            "path_depth                    -0.055239   -0.013460  0.046473 -0.076875   \n",
            "file_extension                 0.136064    0.143843  0.040368  0.062891   \n",
            "num_parameters                 0.601086    0.917249  0.100434 -0.029406   \n",
            "sensitive_params               0.046185    0.067588  0.088551 -0.001655   \n",
            "uses_https                     0.006533    0.027219 -0.000206 -0.000444   \n",
            "ssl_cert_valid                 0.010908    0.018788 -0.000545 -0.001174   \n",
            "ssl_self_signed                     NaN         NaN       NaN       NaN   \n",
            "ssl_days_left                  0.008179    0.012000 -0.000404 -0.000870   \n",
            "entropy                        0.364199    0.420770  0.066693 -0.142060   \n",
            "is_shortened                  -0.028679   -0.013360  0.000267 -0.029694   \n",
            "suspicious_keywords            0.203670    0.212968  0.038968 -0.007208   \n",
            "domain_age_days                     NaN         NaN       NaN       NaN   \n",
            "domain_expiry_days                  NaN         NaN       NaN       NaN   \n",
            "domain_registered                   NaN         NaN       NaN       NaN   \n",
            "has_whois_info                      NaN         NaN       NaN       NaN   \n",
            "name_servers_count                  NaN         NaN       NaN       NaN   \n",
            "non_standard_port                   NaN         NaN       NaN       NaN   \n",
            "hex_chars                      0.106277    0.279228  0.006188 -0.009031   \n",
            "redirects                      0.093357    0.073075  0.003854 -0.002084   \n",
            "ip_private                          NaN         NaN       NaN       NaN   \n",
            "domain_country_                     NaN         NaN       NaN       NaN   \n",
            "tld_                          -0.016602   -0.025029 -0.005594  0.001848   \n",
            "tld_com                        0.015287    0.023870 -0.000630 -0.001356   \n",
            "tld_com.ba                    -0.000512   -0.000439 -0.000084 -0.000181   \n",
            "tld_com.br                     0.002332    0.002568  0.005546 -0.000678   \n",
            "tld_de                         0.000565   -0.000090 -0.000168 -0.000362   \n",
            "tld_edu.co                     0.002667    0.001136 -0.000084 -0.000181   \n",
            "tld_es                         0.002667    0.016887 -0.000084 -0.000181   \n",
            "tld_eu                        -0.000512   -0.000439 -0.000084 -0.000181   \n",
            "tld_ga                        -0.000724    0.000493 -0.000119 -0.000256   \n",
            "tld_gov.vn                     0.003772   -0.000620 -0.000119 -0.000256   \n",
            "tld_gq                        -0.000724    0.001607 -0.000119 -0.000256   \n",
            "tld_in                        -0.000512   -0.000439 -0.000084 -0.000181   \n",
            "tld_inf.br                    -0.000512   -0.000439 -0.000084 -0.000181   \n",
            "tld_info                       0.002667   -0.000439 -0.000084 -0.000181   \n",
            "tld_it                        -0.000512    0.001136 -0.000084 -0.000181   \n",
            "tld_lu                        -0.001024   -0.000877 -0.000168 -0.000362   \n",
            "tld_net                        0.008514    0.020386 -0.000168 -0.000362   \n",
            "tld_no                         0.003772   -0.000620 -0.000119 -0.000256   \n",
            "tld_org                        0.003772   -0.000620 -0.000119 -0.000256   \n",
            "tld_ru                         0.006455    0.004696  0.025176 -0.000314   \n",
            "tld_ws                        -0.000512    0.002711 -0.000084 -0.000181   \n",
            "registrar_                          NaN         NaN       NaN       NaN   \n",
            "\n",
            "                     domain_length  subdomain_count  ...  tld_inf.br  \\\n",
            "URL_length                0.030401         0.009057  ...    0.000519   \n",
            "num_dots                  0.034987         0.017793  ...    0.004907   \n",
            "num_hyphens               0.001206         0.003649  ...   -0.000700   \n",
            "num_slashes               0.033252         0.008178  ...    0.004310   \n",
            "num_question_marks        0.014703        -0.001733  ...   -0.000512   \n",
            "num_equals                0.024539         0.007751  ...   -0.000439   \n",
            "num_at                    0.006172        -0.000285  ...   -0.000084   \n",
            "has_ip                   -0.001042        -0.000613  ...   -0.000181   \n",
            "domain_length             1.000000         0.548194  ...    0.071161   \n",
            "subdomain_count           0.548194         1.000000  ...   -0.000008   \n",
            "domain_part_count         0.548194         1.000000  ...   -0.000008   \n",
            "is_idn                         NaN              NaN  ...         NaN   \n",
            "path_length               0.005205         0.007640  ...   -0.000080   \n",
            "path_depth                0.011373         0.002071  ...    0.002607   \n",
            "file_extension            0.005030        -0.003151  ...   -0.001206   \n",
            "num_parameters            0.012073        -0.001547  ...   -0.000457   \n",
            "sensitive_params          0.011891        -0.000108  ...   -0.000032   \n",
            "uses_https                0.167471         0.030668  ...   -0.000006   \n",
            "ssl_cert_valid            0.457966        -0.000050  ...    0.154296   \n",
            "ssl_self_signed                NaN              NaN  ...         NaN   \n",
            "ssl_days_left             0.327303        -0.000037  ...    0.094222   \n",
            "entropy                   0.020150         0.008595  ...    0.001607   \n",
            "is_shortened             -0.001272        -0.001268  ...   -0.000375   \n",
            "suspicious_keywords       0.011052        -0.000681  ...   -0.000369   \n",
            "domain_age_days                NaN              NaN  ...         NaN   \n",
            "domain_expiry_days             NaN              NaN  ...         NaN   \n",
            "domain_registered              NaN              NaN  ...         NaN   \n",
            "has_whois_info                 NaN              NaN  ...         NaN   \n",
            "name_servers_count             NaN              NaN  ...         NaN   \n",
            "non_standard_port              NaN              NaN  ...         NaN   \n",
            "hex_chars                 0.007491        -0.000395  ...   -0.000117   \n",
            "redirects                 0.211559         0.071135  ...    0.021031   \n",
            "ip_private                     NaN              NaN  ...         NaN   \n",
            "domain_country_                NaN              NaN  ...         NaN   \n",
            "tld_                     -0.907289        -0.331637  ...   -0.098047   \n",
            "tld_com                   0.742394         0.441925  ...   -0.000017   \n",
            "tld_com.ba                0.075348        -0.000008  ...   -0.000002   \n",
            "tld_com.br                0.292003        -0.000029  ...   -0.000009   \n",
            "tld_de                    0.230254        -0.000015  ...   -0.000005   \n",
            "tld_edu.co                0.058599        -0.000008  ...   -0.000002   \n",
            "tld_es                    0.054412        -0.000008  ...   -0.000002   \n",
            "tld_eu                    0.092097        -0.000008  ...   -0.000002   \n",
            "tld_ga                    0.153931        -0.000011  ...   -0.000003   \n",
            "tld_gov.vn                0.065107        -0.000011  ...   -0.000003   \n",
            "tld_gq                    0.112480        -0.000011  ...   -0.000003   \n",
            "tld_in                    0.041850        -0.000008  ...   -0.000002   \n",
            "tld_inf.br                0.071161        -0.000008  ...    1.000000   \n",
            "tld_info                  0.062786        -0.000008  ...   -0.000002   \n",
            "tld_it                    0.092097        -0.000008  ...   -0.000002   \n",
            "tld_lu                    0.058578        -0.000015  ...   -0.000005   \n",
            "tld_net                   0.236535        -0.000015  ...   -0.000005   \n",
            "tld_no                    0.071029        -0.000011  ...   -0.000003   \n",
            "tld_org                   0.059185        -0.000011  ...   -0.000003   \n",
            "tld_ru                    0.140177        -0.000013  ...   -0.000004   \n",
            "tld_ws                    0.108846         0.075158  ...   -0.000002   \n",
            "registrar_                     NaN              NaN  ...         NaN   \n",
            "\n",
            "                     tld_info    tld_it    tld_lu   tld_net    tld_no  \\\n",
            "URL_length          -0.000194  0.003273  0.000121  0.012257  0.001287   \n",
            "num_dots            -0.000063  0.001925 -0.002114  0.004347 -0.000089   \n",
            "num_hyphens         -0.000700  0.001161 -0.000159  0.003254 -0.000113   \n",
            "num_slashes          0.001472  0.007147  0.006727  0.015714  0.006095   \n",
            "num_question_marks   0.002667 -0.000512 -0.001024  0.008514  0.003772   \n",
            "num_equals          -0.000439  0.001136 -0.000877  0.020386 -0.000620   \n",
            "num_at              -0.000084 -0.000084 -0.000168 -0.000168 -0.000119   \n",
            "has_ip              -0.000181 -0.000181 -0.000362 -0.000362 -0.000256   \n",
            "domain_length        0.062786  0.092097  0.058578  0.236535  0.071029   \n",
            "subdomain_count     -0.000008 -0.000008 -0.000015 -0.000015 -0.000011   \n",
            "domain_part_count   -0.000008 -0.000008 -0.000015 -0.000015 -0.000011   \n",
            "is_idn                    NaN       NaN       NaN       NaN       NaN   \n",
            "path_length         -0.001481  0.004177 -0.000553  0.005833 -0.000351   \n",
            "path_depth          -0.000385  0.005598  0.003219  0.011196  0.003686   \n",
            "file_extension       0.001886  0.001886 -0.002413  0.003772  0.002667   \n",
            "num_parameters      -0.000457 -0.000457 -0.000915  0.004817 -0.000647   \n",
            "sensitive_params    -0.000032 -0.000032 -0.000064 -0.000064 -0.000045   \n",
            "uses_https          -0.000006 -0.000006 -0.000011 -0.000011 -0.000008   \n",
            "ssl_cert_valid      -0.000015 -0.000015  0.308593 -0.000029  0.218208   \n",
            "ssl_self_signed           NaN       NaN       NaN       NaN       NaN   \n",
            "ssl_days_left       -0.000011 -0.000011  0.188445 -0.000022  0.083524   \n",
            "entropy             -0.000453  0.001807 -0.000070  0.007375  0.003384   \n",
            "is_shortened        -0.000375 -0.000375 -0.000750 -0.000750 -0.000530   \n",
            "suspicious_keywords  0.003397  0.003397 -0.000738  0.012443 -0.000522   \n",
            "domain_age_days           NaN       NaN       NaN       NaN       NaN   \n",
            "domain_expiry_days        NaN       NaN       NaN       NaN       NaN   \n",
            "domain_registered         NaN       NaN       NaN       NaN       NaN   \n",
            "has_whois_info            NaN       NaN       NaN       NaN       NaN   \n",
            "name_servers_count        NaN       NaN       NaN       NaN       NaN   \n",
            "non_standard_port         NaN       NaN       NaN       NaN       NaN   \n",
            "hex_chars           -0.000117 -0.000117 -0.000233  0.000333 -0.000165   \n",
            "redirects            0.021031  0.021031  0.042061  0.042061  0.029742   \n",
            "ip_private                NaN       NaN       NaN       NaN       NaN   \n",
            "domain_country_           NaN       NaN       NaN       NaN       NaN   \n",
            "tld_                -0.098047 -0.098047 -0.196094 -0.196094 -0.138659   \n",
            "tld_com             -0.000017 -0.000017 -0.000034 -0.000034 -0.000024   \n",
            "tld_com.ba          -0.000002 -0.000002 -0.000005 -0.000005 -0.000003   \n",
            "tld_com.br          -0.000009 -0.000009 -0.000017 -0.000017 -0.000012   \n",
            "tld_de              -0.000005 -0.000005 -0.000009 -0.000009 -0.000006   \n",
            "tld_edu.co          -0.000002 -0.000002 -0.000005 -0.000005 -0.000003   \n",
            "tld_es              -0.000002 -0.000002 -0.000005 -0.000005 -0.000003   \n",
            "tld_eu              -0.000002 -0.000002 -0.000005 -0.000005 -0.000003   \n",
            "tld_ga              -0.000003 -0.000003 -0.000006 -0.000006 -0.000005   \n",
            "tld_gov.vn          -0.000003 -0.000003 -0.000006 -0.000006 -0.000005   \n",
            "tld_gq              -0.000003 -0.000003 -0.000006 -0.000006 -0.000005   \n",
            "tld_in              -0.000002 -0.000002 -0.000005 -0.000005 -0.000003   \n",
            "tld_inf.br          -0.000002 -0.000002 -0.000005 -0.000005 -0.000003   \n",
            "tld_info             1.000000 -0.000002 -0.000005 -0.000005 -0.000003   \n",
            "tld_it              -0.000002  1.000000 -0.000005 -0.000005 -0.000003   \n",
            "tld_lu              -0.000005 -0.000005  1.000000 -0.000009 -0.000006   \n",
            "tld_net             -0.000005 -0.000005 -0.000009  1.000000 -0.000006   \n",
            "tld_no              -0.000003 -0.000003 -0.000006 -0.000006  1.000000   \n",
            "tld_org             -0.000003 -0.000003 -0.000006 -0.000006 -0.000005   \n",
            "tld_ru              -0.000004 -0.000004 -0.000008 -0.000008 -0.000006   \n",
            "tld_ws              -0.000002 -0.000002 -0.000005 -0.000005 -0.000003   \n",
            "registrar_                NaN       NaN       NaN       NaN       NaN   \n",
            "\n",
            "                      tld_org    tld_ru    tld_ws  registrar_  \n",
            "URL_length          -0.000107  0.008652  0.000689         NaN  \n",
            "num_dots             0.001317  0.002187  0.000931         NaN  \n",
            "num_hyphens         -0.000990  0.000937 -0.000080         NaN  \n",
            "num_slashes          0.003419  0.005826  0.002418         NaN  \n",
            "num_question_marks   0.003772  0.006455 -0.000512         NaN  \n",
            "num_equals          -0.000620  0.004696  0.002711         NaN  \n",
            "num_at              -0.000119  0.025176 -0.000084         NaN  \n",
            "has_ip              -0.000256 -0.000314 -0.000181         NaN  \n",
            "domain_length        0.059185  0.140177  0.108846         NaN  \n",
            "subdomain_count     -0.000011 -0.000013  0.075158         NaN  \n",
            "domain_part_count   -0.000011 -0.000013  0.075158         NaN  \n",
            "is_idn                    NaN       NaN       NaN         NaN  \n",
            "path_length         -0.001856 -0.000204 -0.000360         NaN  \n",
            "path_depth           0.000866  0.001636  0.000612         NaN  \n",
            "file_extension       0.002667 -0.002090 -0.001206         NaN  \n",
            "num_parameters      -0.000647  0.005826 -0.000457         NaN  \n",
            "sensitive_params    -0.000045  0.080027 -0.000032         NaN  \n",
            "uses_https          -0.000008 -0.000010  0.408246         NaN  \n",
            "ssl_cert_valid       0.218208 -0.000026 -0.000015         NaN  \n",
            "ssl_self_signed           NaN       NaN       NaN         NaN  \n",
            "ssl_days_left        0.584762 -0.000019 -0.000011         NaN  \n",
            "entropy             -0.000695  0.005585  0.002396         NaN  \n",
            "is_shortened        -0.000530 -0.000649 -0.000375         NaN  \n",
            "suspicious_keywords -0.000522  0.008058  0.007163         NaN  \n",
            "domain_age_days           NaN       NaN       NaN         NaN  \n",
            "domain_expiry_days        NaN       NaN       NaN         NaN  \n",
            "domain_registered         NaN       NaN       NaN         NaN  \n",
            "has_whois_info            NaN       NaN       NaN         NaN  \n",
            "name_servers_count        NaN       NaN       NaN         NaN  \n",
            "non_standard_port         NaN       NaN       NaN         NaN  \n",
            "hex_chars           -0.000165  0.002413 -0.000117         NaN  \n",
            "redirects            0.029742  0.036426  0.021031         NaN  \n",
            "ip_private                NaN       NaN       NaN         NaN  \n",
            "domain_country_           NaN       NaN       NaN         NaN  \n",
            "tld_                -0.138659 -0.169822 -0.098047         NaN  \n",
            "tld_com             -0.000024 -0.000029 -0.000017         NaN  \n",
            "tld_com.ba          -0.000003 -0.000004 -0.000002         NaN  \n",
            "tld_com.br          -0.000012 -0.000015 -0.000009         NaN  \n",
            "tld_de              -0.000006 -0.000008 -0.000005         NaN  \n",
            "tld_edu.co          -0.000003 -0.000004 -0.000002         NaN  \n",
            "tld_es              -0.000003 -0.000004 -0.000002         NaN  \n",
            "tld_eu              -0.000003 -0.000004 -0.000002         NaN  \n",
            "tld_ga              -0.000005 -0.000006 -0.000003         NaN  \n",
            "tld_gov.vn          -0.000005 -0.000006 -0.000003         NaN  \n",
            "tld_gq              -0.000005 -0.000006 -0.000003         NaN  \n",
            "tld_in              -0.000003 -0.000004 -0.000002         NaN  \n",
            "tld_inf.br          -0.000003 -0.000004 -0.000002         NaN  \n",
            "tld_info            -0.000003 -0.000004 -0.000002         NaN  \n",
            "tld_it              -0.000003 -0.000004 -0.000002         NaN  \n",
            "tld_lu              -0.000006 -0.000008 -0.000005         NaN  \n",
            "tld_net             -0.000006 -0.000008 -0.000005         NaN  \n",
            "tld_no              -0.000005 -0.000006 -0.000003         NaN  \n",
            "tld_org              1.000000 -0.000006 -0.000003         NaN  \n",
            "tld_ru              -0.000006  1.000000 -0.000004         NaN  \n",
            "tld_ws              -0.000003 -0.000004  1.000000         NaN  \n",
            "registrar_                NaN       NaN       NaN         NaN  \n",
            "\n",
            "[56 rows x 56 columns]\n"
          ]
        }
      ],
      "source": [
        "print(corr_matrix)\n"
      ]
    },
    {
      "cell_type": "markdown",
      "metadata": {},
      "source": [
        "MODEL\n"
      ]
    },
    {
      "cell_type": "code",
      "execution_count": null,
      "metadata": {
        "id": "z8nQiBBapSDU"
      },
      "outputs": [],
      "source": [
        "from sklearn.preprocessing import LabelEncoder\n",
        "\n",
        "le = LabelEncoder()\n",
        "y_encoded = le.fit_transform(y)  # Converts ['bad', 'good'] → [0, 1]\n"
      ]
    },
    {
      "cell_type": "code",
      "execution_count": null,
      "metadata": {
        "id": "EyV-iIbapVGH"
      },
      "outputs": [],
      "source": [
        "X_train, X_test, y_train, y_test = train_test_split(X, y_encoded, test_size=0.2, random_state=42)\n"
      ]
    },
    {
      "cell_type": "code",
      "execution_count": null,
      "metadata": {
        "colab": {
          "base_uri": "https://localhost:8080/"
        },
        "id": "ZH8RSULyAHoe",
        "outputId": "f6b5ba45-f562-4849-e59e-775f8943e0ce"
      },
      "outputs": [
        {
          "name": "stdout",
          "output_type": "stream",
          "text": [
            "              precision    recall  f1-score   support\n",
            "\n",
            "           0       0.78      0.69      0.73     31200\n",
            "           1       0.88      0.92      0.90     78670\n",
            "\n",
            "    accuracy                           0.86    109870\n",
            "   macro avg       0.83      0.81      0.82    109870\n",
            "weighted avg       0.85      0.86      0.85    109870\n",
            "\n"
          ]
        }
      ],
      "source": [
        "\n",
        "from sklearn.model_selection import cross_val_score\n",
        "\n",
        "# 4. Model training with cross-validation\n",
        "\n",
        "rf = RandomForestClassifier(n_estimators=100, random_state=42)\n",
        "cv_scores = cross_val_score(rf, X_train, y_train, cv=5)\n",
        "rf.fit(X_train, y_train)\n",
        "\n",
        "# 5. Evaluation\n",
        "y_pred = rf.predict(X_test)\n",
        "print(classification_report(y_test, y_pred))"
      ]
    },
    {
      "cell_type": "code",
      "execution_count": null,
      "metadata": {
        "colab": {
          "base_uri": "https://localhost:8080/"
        },
        "id": "bJ0unKf9o45y",
        "outputId": "02e7015c-5101-4a22-ea7e-5fdd1acdfa17"
      },
      "outputs": [
        {
          "name": "stdout",
          "output_type": "stream",
          "text": [
            "XGBoost Performance:\n",
            "              precision    recall  f1-score   support\n",
            "\n",
            "           0       0.97      0.37      0.54     31200\n",
            "           1       0.80      1.00      0.89     78670\n",
            "\n",
            "    accuracy                           0.82    109870\n",
            "   macro avg       0.88      0.68      0.71    109870\n",
            "weighted avg       0.85      0.82      0.79    109870\n",
            "\n",
            "ROC-AUC: 0.8682119668576624\n"
          ]
        }
      ],
      "source": [
        "from sklearn.linear_model import LogisticRegression\n",
        "from xgboost import XGBClassifier\n",
        "from sklearn.ensemble import VotingClassifier\n",
        "from sklearn.metrics import classification_report, roc_auc_score\n",
        "\n",
        "# 1. XGBoost Implementation\n",
        "xgb = XGBClassifier(\n",
        "    n_estimators=100,\n",
        "    learning_rate=0.1,\n",
        "    max_depth=5,\n",
        "    subsample=0.8,\n",
        "    colsample_bytree=0.8,\n",
        "    scale_pos_weight=2.5,\n",
        "    random_state=42\n",
        ")\n",
        "xgb.fit(X_train, y_train)\n",
        "y_pred_xgb = xgb.predict(X_test)\n",
        "print(\"XGBoost Performance:\")\n",
        "print(classification_report(y_test, y_pred_xgb))\n",
        "print(\"ROC-AUC:\", roc_auc_score(y_test, xgb.predict_proba(X_test)[:, 1]))"
      ]
    },
    {
      "cell_type": "code",
      "execution_count": null,
      "metadata": {
        "colab": {
          "base_uri": "https://localhost:8080/"
        },
        "id": "2OH7K8Y9pj-Y",
        "outputId": "e90cd235-ae6a-431d-f17f-2f672a18ac19"
      },
      "outputs": [
        {
          "name": "stdout",
          "output_type": "stream",
          "text": [
            "\n",
            "Logistic Regression Performance:\n",
            "              precision    recall  f1-score   support\n",
            "\n",
            "           0       0.55      0.53      0.54     31200\n",
            "           1       0.82      0.83      0.82     78670\n",
            "\n",
            "    accuracy                           0.74    109870\n",
            "   macro avg       0.68      0.68      0.68    109870\n",
            "weighted avg       0.74      0.74      0.74    109870\n",
            "\n",
            "ROC-AUC: 0.7617272455045908\n"
          ]
        }
      ],
      "source": [
        "# 2. Logistic Regression Implementation\n",
        "logreg = LogisticRegression(\n",
        "    class_weight='balanced',\n",
        "    max_iter=1000,\n",
        "    C=0.1,\n",
        "    solver='liblinear',\n",
        "    random_state=42\n",
        ")\n",
        "logreg.fit(X_train, y_train)\n",
        "y_pred_logreg = logreg.predict(X_test)\n",
        "print(\"\\nLogistic Regression Performance:\")\n",
        "print(classification_report(y_test, y_pred_logreg))\n",
        "print(\"ROC-AUC:\", roc_auc_score(y_test, logreg.predict_proba(X_test)[:, 1]))"
      ]
    },
    {
      "cell_type": "code",
      "execution_count": null,
      "metadata": {
        "colab": {
          "base_uri": "https://localhost:8080/"
        },
        "id": "QHiYBjzDAcQu",
        "outputId": "61246150-e05f-4350-d8af-88a54e0d554d"
      },
      "outputs": [
        {
          "name": "stdout",
          "output_type": "stream",
          "text": [
            "\n",
            "Ensemble Model Performance:\n",
            "              precision    recall  f1-score   support\n",
            "\n",
            "           0       0.91      0.51      0.66     31200\n",
            "           1       0.84      0.98      0.90     78670\n",
            "\n",
            "    accuracy                           0.85    109870\n",
            "   macro avg       0.87      0.75      0.78    109870\n",
            "weighted avg       0.86      0.85      0.83    109870\n",
            "\n",
            "ROC-AUC: 0.9055244851913054\n"
          ]
        }
      ],
      "source": [
        "\n",
        "# 3. Ensemble Model (Voting Classifier)\n",
        "ensemble = VotingClassifier(\n",
        "    estimators=[\n",
        "        ('rf', rf),\n",
        "        ('xgb', xgb),\n",
        "        ('logreg', logreg)\n",
        "    ],\n",
        "    voting='soft',  # Use probability for weighted voting\n",
        "    n_jobs=-1\n",
        ")\n",
        "ensemble.fit(X_train, y_train)\n",
        "y_pred_ensemble = ensemble.predict(X_test)\n",
        "print(\"\\nEnsemble Model Performance:\")\n",
        "print(classification_report(y_test, y_pred_ensemble))\n",
        "print(\"ROC-AUC:\", roc_auc_score(y_test, ensemble.predict_proba(X_test)[:, 1]))"
      ]
    },
    {
      "cell_type": "code",
      "execution_count": null,
      "metadata": {
        "id": "eLFuyE5JAfQr"
      },
      "outputs": [],
      "source": [
        "# 4. Feature Importance Analysis\n",
        "import matplotlib.pyplot as plt\n"
      ]
    },
    {
      "cell_type": "code",
      "execution_count": null,
      "metadata": {
        "colab": {
          "base_uri": "https://localhost:8080/",
          "height": 545
        },
        "id": "vzNkZXWXAjSL",
        "outputId": "90cfcb8f-986d-455c-e210-b56e6e6e934c"
      },
      "outputs": [
        {
          "data": {
            "image/png": "[encoded data removed]",
            "text/plain": [
              "<Figure size 1000x600 with 1 Axes>"
            ]
          },
          "metadata": {},
          "output_type": "display_data"
        }
      ],
      "source": [
        "# XGBoost Feature Importance\n",
        "plt.figure(figsize=(10, 6))\n",
        "plt.barh(X.columns, xgb.feature_importances_)\n",
        "plt.title('XGBoost Feature Importance')\n",
        "plt.show()"
      ]
    },
    {
      "cell_type": "code",
      "execution_count": null,
      "metadata": {
        "colab": {
          "base_uri": "https://localhost:8080/",
          "height": 545
        },
        "id": "YfIQGopE6unl",
        "outputId": "30cc1070-9c91-46ee-cb88-359885c9a031"
      },
      "outputs": [
        {
          "data": {
            "image/png": "[encoded data removed]",
            "text/plain": [
              "<Figure size 1000x600 with 1 Axes>"
            ]
          },
          "metadata": {},
          "output_type": "display_data"
        }
      ],
      "source": [
        "\n",
        "# Random Forest Feature Importance\n",
        "plt.figure(figsize=(10, 6))\n",
        "plt.barh(X.columns, rf.feature_importances_)\n",
        "plt.title('Random Forest Feature Importance')\n",
        "plt.show()"
      ]
    },
    {
      "cell_type": "markdown",
      "metadata": {},
      "source": [
        "ENSEMBLE PIPELINE\n"
      ]
    },
    {
      "cell_type": "code",
      "execution_count": null,
      "metadata": {
        "colab": {
          "base_uri": "https://localhost:8080/"
        },
        "id": "EVHVf08X8W_8",
        "outputId": "c72a7387-78fd-40a1-8100-a153fc082e85"
      },
      "outputs": [
        {
          "data": {
            "text/plain": [
              "['phishing_detection_pipeline.pkl']"
            ]
          },
          "execution_count": 27,
          "metadata": {},
          "output_type": "execute_result"
        }
      ],
      "source": [
        "import pandas as pd\n",
        "import numpy as np\n",
        "import joblib\n",
        "from sklearn.pipeline import Pipeline\n",
        "from sklearn.preprocessing import StandardScaler\n",
        "from sklearn.ensemble import VotingClassifier\n",
        "from sklearn.metrics import classification_report, roc_auc_score\n",
        "\n",
        "# 1. Create and train the ensemble pipeline\n",
        "def create_ensemble_pipeline(X_train, y_train):\n",
        "    \"\"\"\n",
        "    Creates and trains a complete phishing detection pipeline\n",
        "    \"\"\"\n",
        "    pipeline = Pipeline([\n",
        "        ('scaler', StandardScaler()),  # Feature scaling\n",
        "        ('ensemble', VotingClassifier(\n",
        "            estimators=[\n",
        "                ('rf', rf),  # pre-trained Random Forest\n",
        "                ('xgb', xgb),  # pre-trained XGBoost\n",
        "                ('logreg', logreg)  # pre-trained Logistic Regression\n",
        "            ],\n",
        "            voting='soft',\n",
        "            n_jobs=-1\n",
        "        ))\n",
        "    ])\n",
        "\n",
        "    # Train the pipeline\n",
        "    pipeline.fit(X_train, y_train)\n",
        "    return pipeline\n",
        "\n",
        "# 2. Create and save the pipeline\n",
        "phishing_pipeline = create_ensemble_pipeline(X_train, y_train)\n",
        "joblib.dump(phishing_pipeline, 'phishing_detection_pipeline.pkl')"
      ]
    },
    {
      "cell_type": "code",
      "execution_count": null,
      "metadata": {
        "id": "b74dYdIpIm_n"
      },
      "outputs": [],
      "source": [
        "# 4. Feature importance analysis\n",
        "def get_feature_importances(pipeline):\n",
        "    \"\"\"\n",
        "    Extracts and combines feature importances from all models\n",
        "    \"\"\"\n",
        "    importances = {}\n",
        "\n",
        "    # Get Random Forest importances\n",
        "    rf_importances = pipeline.named_steps['ensemble'].estimators_[0].feature_importances_\n",
        "    importances['random_forest'] = rf_importances\n",
        "\n",
        "    # Get XGBoost importances\n",
        "    xgb_importances = pipeline.named_steps['ensemble'].estimators_[1].feature_importances_\n",
        "    importances['xgboost'] = xgb_importances\n",
        "\n",
        "    # Average importances\n",
        "    avg_importances = np.mean([rf_importances, xgb_importances], axis=0)\n",
        "    return pd.Series(avg_importances, index=X_train.columns).sort_values(ascending=False)"
      ]
    },
    {
      "cell_type": "code",
      "execution_count": null,
      "metadata": {
        "id": "0JObu2J4In5c"
      },
      "outputs": [],
      "source": [
        "# 3. Evaluation function\n",
        "def evaluate_model(pipeline, X_test, y_test):\n",
        "    \"\"\"\n",
        "    Evaluates pipeline performance and returns metrics\n",
        "    \"\"\"\n",
        "    y_pred = pipeline.predict(X_test)\n",
        "    y_proba = pipeline.predict_proba(X_test)[:, 1]\n",
        "\n",
        "    print(\"Model Evaluation:\")\n",
        "    print(classification_report(y_test, y_pred, target_names=['good', 'bad']))\n",
        "    print(f\"ROC-AUC Score: {roc_auc_score(y_test, y_proba):.4f}\")\n",
        "    print(\"\\nFeature Importances:\")\n",
        "    print(get_feature_importances(pipeline))"
      ]
    },
    {
      "cell_type": "code",
      "execution_count": null,
      "metadata": {
        "id": "bSFVRKM8IzmC"
      },
      "outputs": [],
      "source": [
        "# 5. Prediction function\n",
        "def predict_phishing(url, pipeline_path='phishing_detection_pipeline.pkl'):\n",
        "    \"\"\"\n",
        "    End-to-end prediction function for new URLs\n",
        "    \"\"\"\n",
        "    try:\n",
        "        # Load pipeline\n",
        "        pipeline = joblib.load(pipeline_path)\n",
        "\n",
        "        # Extract features\n",
        "        features = extract_features(url)\n",
        "\n",
        "        # Convert to DataFrame\n",
        "        input_data = pd.DataFrame([features])\n",
        "\n",
        "        # Make prediction\n",
        "        prob = pipeline.predict_proba(input_data)[0][1]\n",
        "\n",
        "        return {\n",
        "            'url': url,\n",
        "            'phishing_probability': float(prob),\n",
        "            'prediction': 'bad' if prob > 0.5 else 'good',\n",
        "            'features_used': list(features.keys())\n",
        "        }\n",
        "    except Exception as e:\n",
        "        return {'error': str(e), 'url': url}"
      ]
    },
    {
      "cell_type": "code",
      "execution_count": null,
      "metadata": {
        "colab": {
          "base_uri": "https://localhost:8080/"
        },
        "id": "Nkt6BqFYI2_s",
        "outputId": "329f63ae-5248-441e-82e3-b7ed6b62c1c3"
      },
      "outputs": [
        {
          "name": "stdout",
          "output_type": "stream",
          "text": [
            "Final Pipeline Evaluation:\n",
            "Model Evaluation:\n",
            "              precision    recall  f1-score   support\n",
            "\n",
            "        good       0.91      0.51      0.66     31200\n",
            "         bad       0.84      0.98      0.90     78670\n",
            "\n",
            "    accuracy                           0.85    109870\n",
            "   macro avg       0.87      0.75      0.78    109870\n",
            "weighted avg       0.86      0.85      0.83    109870\n",
            "\n",
            "ROC-AUC Score: 0.9055\n",
            "\n",
            "Feature Importances:\n",
            "suspicious_keywords    2.619034e-01\n",
            "entropy                1.824738e-01\n",
            "has_ip                 1.159705e-01\n",
            "URL_length             6.218811e-02\n",
            "num_dots               6.040363e-02\n",
            "num_hyphens            5.201287e-02\n",
            "path_length            4.683016e-02\n",
            "path_depth             4.096032e-02\n",
            "num_slashes            3.737880e-02\n",
            "redirects              2.564583e-02\n",
            "file_extension         2.368277e-02\n",
            "num_question_marks     2.048837e-02\n",
            "num_parameters         1.803115e-02\n",
            "num_at                 1.802016e-02\n",
            "num_equals             1.464716e-02\n",
            "is_shortened           1.015686e-02\n",
            "hex_chars              8.880851e-03\n",
            "sensitive_params       2.297414e-04\n",
            "domain_length          3.065409e-05\n",
            "tld_                   2.050463e-05\n",
            "tld_com                1.448498e-05\n",
            "ssl_days_left          1.280895e-05\n",
            "ssl_cert_valid         6.784423e-06\n",
            "subdomain_count        2.158839e-06\n",
            "tld_lu                 1.156900e-06\n",
            "tld_org                9.647782e-07\n",
            "tld_com.ba             9.233971e-07\n",
            "domain_part_count      9.075842e-07\n",
            "tld_ru                 7.901327e-07\n",
            "tld_de                 6.931359e-07\n",
            "tld_com.br             5.998585e-07\n",
            "tld_gq                 5.139214e-07\n",
            "tld_ga                 3.343750e-07\n",
            "uses_https             2.744877e-07\n",
            "tld_inf.br             2.270819e-07\n",
            "tld_net                2.232818e-07\n",
            "tld_info               2.024857e-07\n",
            "tld_it                 7.682955e-08\n",
            "tld_edu.co             7.509762e-08\n",
            "tld_es                 5.363129e-08\n",
            "tld_no                 3.231488e-08\n",
            "tld_eu                 1.549096e-08\n",
            "tld_gov.vn             2.934278e-09\n",
            "tld_in                 7.599532e-10\n",
            "ssl_self_signed        0.000000e+00\n",
            "is_idn                 0.000000e+00\n",
            "non_standard_port      0.000000e+00\n",
            "name_servers_count     0.000000e+00\n",
            "domain_country_        0.000000e+00\n",
            "ip_private             0.000000e+00\n",
            "domain_age_days        0.000000e+00\n",
            "domain_expiry_days     0.000000e+00\n",
            "has_whois_info         0.000000e+00\n",
            "domain_registered      0.000000e+00\n",
            "tld_ws                 0.000000e+00\n",
            "registrar_             0.000000e+00\n",
            "dtype: float64\n"
          ]
        }
      ],
      "source": [
        "# 6. Evaluate the pipeline\n",
        "print(\"Final Pipeline Evaluation:\")\n",
        "evaluate_model(phishing_pipeline, X_test, y_test)"
      ]
    },
    {
      "cell_type": "code",
      "execution_count": null,
      "metadata": {
        "colab": {
          "base_uri": "https://localhost:8080/"
        },
        "id": "LovsHXULI5VQ",
        "outputId": "61b3af8c-a2ca-4ca6-dfbe-c706a6bdd9c2"
      },
      "outputs": [
        {
          "name": "stdout",
          "output_type": "stream",
          "text": [
            "\n",
            "Sample Prediction:\n",
            "{'error': 'The feature names should match those that were passed during fit.\\nFeature names unseen at fit time:\\n- domain_country\\n- registrar\\n- tld\\nFeature names seen at fit time, yet now missing:\\n- domain_country_\\n- registrar_\\n- tld_\\n- tld_com\\n- tld_com.ba\\n- ...\\n', 'url': 'http://example.com/login.php?user=test&password=1234'}\n"
          ]
        }
      ],
      "source": [
        "sample_url = \"http://example.com/login.php?user=test&password=1234\"\n",
        "print(\"\\nSample Prediction:\")\n",
        "print(predict_phishing(sample_url))"
      ]
    },
    {
      "cell_type": "code",
      "execution_count": null,
      "metadata": {
        "colab": {
          "base_uri": "https://localhost:8080/"
        },
        "id": "E2sqRjGEMTzc",
        "outputId": "db8bc47e-f1dc-4be0-9195-2f59675142fc"
      },
      "outputs": [
        {
          "name": "stdout",
          "output_type": "stream",
          "text": [
            "Pipeline(steps=[('scaler', StandardScaler()),\n",
            "                ('ensemble',\n",
            "                 VotingClassifier(estimators=[('rf',\n",
            "                                               RandomForestClassifier(random_state=42)),\n",
            "                                              ('xgb',\n",
            "                                               XGBClassifier(base_score=None,\n",
            "                                                             booster=None,\n",
            "                                                             callbacks=None,\n",
            "                                                             colsample_bylevel=None,\n",
            "                                                             colsample_bynode=None,\n",
            "                                                             colsample_bytree=0.8,\n",
            "                                                             device=None,\n",
            "                                                             early_stopping_rounds=None,\n",
            "                                                             enable_categorical=False,\n",
            "                                                             eval_metric=None,\n",
            "                                                             featur...\n",
            "                                                             max_cat_to_onehot=None,\n",
            "                                                             max_delta_step=None,\n",
            "                                                             max_depth=5,\n",
            "                                                             max_leaves=None,\n",
            "                                                             min_child_weight=None,\n",
            "                                                             missing=nan,\n",
            "                                                             monotone_constraints=None,\n",
            "                                                             multi_strategy=None,\n",
            "                                                             n_estimators=100,\n",
            "                                                             n_jobs=None,\n",
            "                                                             num_parallel_tree=None,\n",
            "                                                             random_state=42, ...)),\n",
            "                                              ('logreg',\n",
            "                                               LogisticRegression(C=0.1,\n",
            "                                                                  class_weight='balanced',\n",
            "                                                                  max_iter=1000,\n",
            "                                                                  random_state=42,\n",
            "                                                                  solver='liblinear'))],\n",
            "                                  n_jobs=-1, voting='soft'))])\n"
          ]
        }
      ],
      "source": [
        "print(pipeline)\n"
      ]
    },
    {
      "cell_type": "code",
      "execution_count": null,
      "metadata": {
        "colab": {
          "base_uri": "https://localhost:8080/"
        },
        "id": "hLhdI2MXMgbJ",
        "outputId": "25438883-8187-413b-f7fb-40f99cdfd1b2"
      },
      "outputs": [
        {
          "name": "stdout",
          "output_type": "stream",
          "text": [
            "{'scaler': StandardScaler(), 'ensemble': VotingClassifier(estimators=[('rf', RandomForestClassifier(random_state=42)),\n",
            "                             ('xgb',\n",
            "                              XGBClassifier(base_score=None, booster=None,\n",
            "                                            callbacks=None,\n",
            "                                            colsample_bylevel=None,\n",
            "                                            colsample_bynode=None,\n",
            "                                            colsample_bytree=0.8, device=None,\n",
            "                                            early_stopping_rounds=None,\n",
            "                                            enable_categorical=False,\n",
            "                                            eval_metric=None,\n",
            "                                            feature_types=None, gamma=None,\n",
            "                                            grow_policy=None,\n",
            "                                            importance_type...\n",
            "                                            max_cat_to_onehot=None,\n",
            "                                            max_delta_step=None, max_depth=5,\n",
            "                                            max_leaves=None,\n",
            "                                            min_child_weight=None, missing=nan,\n",
            "                                            monotone_constraints=None,\n",
            "                                            multi_strategy=None,\n",
            "                                            n_estimators=100, n_jobs=None,\n",
            "                                            num_parallel_tree=None,\n",
            "                                            random_state=42, ...)),\n",
            "                             ('logreg',\n",
            "                              LogisticRegression(C=0.1, class_weight='balanced',\n",
            "                                                 max_iter=1000, random_state=42,\n",
            "                                                 solver='liblinear'))],\n",
            "                 n_jobs=-1, voting='soft')}\n"
          ]
        }
      ],
      "source": [
        "print(pipeline.named_steps)\n"
      ]
    },
    {
      "cell_type": "code",
      "execution_count": null,
      "metadata": {
        "colab": {
          "base_uri": "https://localhost:8080/"
        },
        "id": "qsWFLeikMhi2",
        "outputId": "0c6905a6-9e13-4bc5-ce27-cda525cf85b2"
      },
      "outputs": [
        {
          "name": "stdout",
          "output_type": "stream",
          "text": [
            "Model does not expose feature names.\n"
          ]
        }
      ],
      "source": [
        "model = pipeline if not hasattr(pipeline, 'named_steps') else pipeline.named_steps[list(pipeline.named_steps)[-1]]\n",
        "\n",
        "if hasattr(model, 'feature_names_in_'):\n",
        "    feature_names = model.feature_names_in_\n",
        "    print(\"Expected features:\", list(feature_names))\n",
        "else:\n",
        "    print(\"Model does not expose feature names.\")\n"
      ]
    },
    {
      "cell_type": "code",
      "execution_count": null,
      "metadata": {
        "id": "z6TTUKAGNdup"
      },
      "outputs": [],
      "source": [
        "import pandas as pd\n",
        "\n",
        "def predict_phishing(url):\n",
        "    features = extract_features(url)\n",
        "    filtered_features = {key: features.get(key, 0) for key in expected_features}\n",
        "    input_df = pd.DataFrame([filtered_features])\n",
        "    prediction = model.predict(input_df)[0]\n",
        "    return \"Phishing\" if prediction == 1 else \"Legitimate\"\n"
      ]
    },
    {
      "cell_type": "markdown",
      "metadata": {},
      "source": [
        "SAMPLE PREDICTIONS\n"
      ]
    },
    {
      "cell_type": "code",
      "execution_count": null,
      "metadata": {
        "colab": {
          "base_uri": "https://localhost:8080/"
        },
        "id": "Pu9rnWS-NfRw",
        "outputId": "cdd17d48-1d34-4e3b-a4e7-98fd77abaf03"
      },
      "outputs": [
        {
          "name": "stdout",
          "output_type": "stream",
          "text": [
            "Legitimate\n"
          ]
        }
      ],
      "source": [
        "import joblib\n",
        "import pandas as pd\n",
        "\n",
        "model = joblib.load(\"phishing_detection_pipeline.pkl\")\n",
        "feature_names = joblib.load(\"feature_names.pkl\")\n",
        "\n",
        "def predict_phishing(url):\n",
        "    features = extract_features(url)\n",
        "\n",
        "    filtered_features = {key: features.get(key, 0) for key in feature_names}\n",
        "\n",
        "    input_df = pd.DataFrame([filtered_features], columns=feature_names)\n",
        "\n",
        "    prediction = model.predict(input_df)[0]\n",
        "    return \"Phishing\" if prediction == 1 else \"Legitimate\"\n",
        "\n",
        "sample_url = \"http://example.com/login.php?user=test&password=1234\"\n",
        "print(predict_phishing(sample_url))\n"
      ]
    },
    {
      "cell_type": "code",
      "execution_count": null,
      "metadata": {
        "colab": {
          "base_uri": "https://localhost:8080/"
        },
        "id": "FMhDW-XqOnYE",
        "outputId": "8669706a-7d09-4f20-f623-cff95990ef91"
      },
      "outputs": [
        {
          "name": "stdout",
          "output_type": "stream",
          "text": [
            "Phishing\n"
          ]
        }
      ],
      "source": [
        "sample_url = \"xini.eu/00Qe\"\n",
        "print(predict_phishing(sample_url))\n",
        "\n"
      ]
    },
    {
      "cell_type": "code",
      "execution_count": null,
      "metadata": {
        "colab": {
          "base_uri": "https://localhost:8080/"
        },
        "id": "OWZ5jV9fbw8k",
        "outputId": "40b8a30d-7446-4d21-b39c-b020cf18c6a1"
      },
      "outputs": [
        {
          "name": "stdout",
          "output_type": "stream",
          "text": [
            "Legitimate\n"
          ]
        }
      ],
      "source": [
        "sample_url = \"https://chatgpt.com/c/6831ea00-24c8-800e-91ff-08bcedead074\"\n",
        "print(predict_phishing(sample_url))"
      ]
    },
    {
      "cell_type": "code",
      "execution_count": null,
      "metadata": {
        "colab": {
          "base_uri": "https://localhost:8080/"
        },
        "id": "VWpzeZ7pO1hB",
        "outputId": "286d3243-29aa-42fb-fc93-0848f597746a"
      },
      "outputs": [
        {
          "name": "stdout",
          "output_type": "stream",
          "text": [
            "['URL_length', 'num_dots', 'num_hyphens', 'num_slashes', 'num_question_marks', 'num_equals', 'num_at', 'has_ip', 'domain_length', 'subdomain_count', 'domain_part_count', 'is_idn', 'path_length', 'path_depth', 'file_extension', 'num_parameters', 'sensitive_params', 'uses_https', 'ssl_cert_valid', 'ssl_self_signed', 'ssl_days_left', 'entropy', 'is_shortened', 'suspicious_keywords', 'domain_age_days', 'domain_expiry_days', 'domain_registered', 'has_whois_info', 'name_servers_count', 'non_standard_port', 'hex_chars', 'redirects', 'ip_private', 'domain_country_', 'tld_', 'tld_com', 'tld_com.ba', 'tld_com.br', 'tld_de', 'tld_edu.co', 'tld_es', 'tld_eu', 'tld_ga', 'tld_gov.vn', 'tld_gq', 'tld_in', 'tld_inf.br', 'tld_info', 'tld_it', 'tld_lu', 'tld_net', 'tld_no', 'tld_org', 'tld_ru', 'tld_ws', 'registrar_']\n"
          ]
        }
      ],
      "source": [
        "print(feature_names)"
      ]
    },
    {
      "cell_type": "code",
      "execution_count": null,
      "metadata": {
        "colab": {
          "base_uri": "https://localhost:8080/"
        },
        "id": "dzJ6iDPJPcY9",
        "outputId": "fb093db8-1954-498b-ac41-6d31d93ba7c1"
      },
      "outputs": [
        {
          "name": "stdout",
          "output_type": "stream",
          "text": [
            "Phishing\n"
          ]
        }
      ],
      "source": [
        "sample_url = \"phlebolog.com.ua/libraries/joomla/results.php\"\n",
        "print(predict_phishing(sample_url))"
      ]
    },
    {
      "cell_type": "code",
      "execution_count": null,
      "metadata": {
        "colab": {
          "base_uri": "https://localhost:8080/"
        },
        "id": "5HduxMJQbjH4",
        "outputId": "86fe8c7a-7986-4d4f-9feb-8137414b4334"
      },
      "outputs": [
        {
          "name": "stdout",
          "output_type": "stream",
          "text": [
            "Legitimate\n"
          ]
        }
      ],
      "source": [
        "sample_url = \"nextgensmartphones.com//indexer/Trulia/index.htm\"\n",
        "print(predict_phishing(sample_url))"
      ]
    },
    {
      "cell_type": "code",
      "execution_count": null,
      "metadata": {
        "colab": {
          "base_uri": "https://localhost:8080/"
        },
        "id": "nc72QA0Wdg0P",
        "outputId": "222c1c55-41c8-48a3-b5cb-f91a108ca2e8"
      },
      "outputs": [
        {
          "name": "stdout",
          "output_type": "stream",
          "text": [
            "Training Accuracy: 0.8701499057969035\n"
          ]
        }
      ],
      "source": [
        "from sklearn.metrics import accuracy_score\n",
        "\n",
        "y_train_pred = model.predict(X_train)\n",
        "print(\"Training Accuracy:\", accuracy_score(y_train, y_train_pred))\n"
      ]
    },
    {
      "cell_type": "code",
      "execution_count": null,
      "metadata": {
        "id": "l8QS3_PAeJ9B"
      },
      "outputs": [],
      "source": []
    }
  ],
  "metadata": {
    "accelerator": "GPU",
    "colab": {
      "gpuType": "T4",
      "provenance": []
    },
    "kernelspec": {
      "display_name": "Python 3",
      "name": "python3"
    },
    "language_info": {
      "name": "python"
    }
  },
  "nbformat": 4,
  "nbformat_minor": 0
}
